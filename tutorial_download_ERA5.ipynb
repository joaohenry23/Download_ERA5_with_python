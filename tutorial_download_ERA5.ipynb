{
 "cells": [
  {
   "cell_type": "markdown",
   "metadata": {},
   "source": [
    "# Download ERA data with python\n",
    "\n",
    "Since the ECMWF currently advice user to migrate from ERA-interim to ERA5 ([due ERA Interim is being phased out](https://apps.ecmwf.int/datasets/data/interim-full-daily/levtype=sfc/)) and also to [migrate from ECMWF Web API to CDS API](https://confluence.ecmwf.int/display/CKB/How+to+migrate+from+ECMWF+Web+API+to+CDS+API), in this tutorial I will teach you how to download ERA5 data with python using CDS API."
   ]
  },
  {
   "cell_type": "markdown",
   "metadata": {},
   "source": [
    "## Instalation\n",
    "\n",
    "The CDS API can be installed with Conda or Pip, and it is recommended to install it within a python environment.\n",
    "\n",
    "Installation using onda:\n",
    "```\n",
    "conda config --add channels conda-forge\n",
    "conda install cdsapi\n",
    "```\n",
    "\n",
    "Installation using pip:\n",
    "```\n",
    "pip install cdsapi\n",
    "```"
   ]
  },
  {
   "cell_type": "markdown",
   "metadata": {},
   "source": [
    "## Creates an account\n",
    "\n",
    "Creates a CDS account [here](https://cds.climate.copernicus.eu/user/register)."
   ]
  },
  {
   "cell_type": "markdown",
   "metadata": {},
   "source": [
    "## Install the CDS API key\n",
    "\n",
    "- You need to login to continue, login [here](https://cds.climate.copernicus.eu/user/login?destination=%2F%23!%2Fhome).\n",
    "- After login, click [here](https://cds.climate.copernicus.eu/user).\n",
    "- Scroll down in the pageweb until the API key section and copy the **UID** and **API Key** codes.\n",
    "- Creates .cdsapirc file <br>\n",
    "    For Linux:\n",
    "        creates the file $HOME/.cdsapirc\n",
    "\n",
    "    For Windows:\n",
    "        creates the file %USERPROFILE%\\.cdsapirc\n",
    "        %USERPROFILE% is usually located at C:\\Users\\Username folder\n",
    "        More information [here](https://confluence.ecmwf.int/display/CKB/How+to+install+and+use+CDS+API+on+Windows) and [here](https://confluence.ecmwf.int/pages/viewpage.action?pageId=139068264).\n",
    "- Copy the next code within .cdsapirc\n",
    "<br>\n",
    "url: https://cds.climate.copernicus.eu/api/v2 <br>\n",
    "key: {<span style=\"color:red\">uid</span>}:{<span style=\"color:red\">api-key</span>}\n",
    "<br>"
   ]
  },
  {
   "cell_type": "markdown",
   "metadata": {},
   "source": [
    "For more detail see [here](https://cds.climate.copernicus.eu/api-how-to)."
   ]
  },
  {
   "cell_type": "markdown",
   "metadata": {},
   "source": [
    "## Accept data licence and generate a basic CDS API script using the CDS web interface\n",
    "- Go to the C3S [climate data store (CDS)](https://cds.climate.copernicus.eu/#!/home)\n",
    "- On the top menu bar, click on **Datasets**.\n",
    "- On the left-hand side menu, expand **Product type** and select product type of interest (e.g. **Seasonal forecasts** to get all seasonal forecasts data listed, **Reanalysis** for ERA5 datasets)\n",
    "- Follow the dataset title link of interest to the full dataset record\n",
    "- Accept dataset licence and generate basic CDS API script"
   ]
  },
  {
   "cell_type": "markdown",
   "metadata": {},
   "source": [
    "In my case, I selected **Reanalysis** in **Product type**, and I selected \n",
    "**ERA5 hourly data on pressure levels from 1979 to present** as a dataset. Then, selected the variables that I want to download and I did click on **Show API request** to see the python script."
   ]
  },
  {
   "cell_type": "code",
   "execution_count": null,
   "metadata": {},
   "outputs": [],
   "source": [
    "import cdsapi\n",
    "\n",
    "c = cdsapi.Client()\n",
    "\n",
    "c.retrieve(\n",
    "    'reanalysis-era5-pressure-levels',\n",
    "    {\n",
    "        'product_type': 'reanalysis',\n",
    "        'format': 'netcdf',\n",
    "        'variable': [\n",
    "            'geopotential', 'potential_vorticity', 'temperature',\n",
    "            'u_component_of_wind', 'v_component_of_wind',\n",
    "        ],\n",
    "        'pressure_level': [\n",
    "            '100', '125', '150',\n",
    "            '175', '200', '225',\n",
    "            '250', '300', '350',\n",
    "            '400', '450', '500',\n",
    "            '550', '600', '650',\n",
    "            '700', '750', '775',\n",
    "            '800', '825', '850',\n",
    "            '875', '900', '925',\n",
    "            '950', '975', '1000',\n",
    "        ],\n",
    "        'year': '1979',\n",
    "        'month': '01',\n",
    "        'day': [\n",
    "            '01', '02', '03',\n",
    "            '04', '05', '06',\n",
    "            '07', '08', '09',\n",
    "            '10', '11', '12',\n",
    "            '13', '14', '15',\n",
    "            '16', '17', '18',\n",
    "            '19', '20', '21',\n",
    "            '22', '23', '24',\n",
    "            '25', '26', '27',\n",
    "            '28', '29', '30',\n",
    "            '31',\n",
    "        ],\n",
    "        'time': [\n",
    "            '00:00', '01:00', '02:00',\n",
    "            '03:00', '04:00', '05:00',\n",
    "            '06:00', '07:00', '08:00',\n",
    "            '09:00', '10:00', '11:00',\n",
    "            '12:00', '13:00', '14:00',\n",
    "            '15:00', '16:00', '17:00',\n",
    "            '18:00', '19:00', '20:00',\n",
    "            '21:00', '22:00', '23:00',\n",
    "        ],\n",
    "        'area': [\n",
    "            10, -120, -60,\n",
    "            -20,\n",
    "        ],\n",
    "    },\n",
    "    'download.nc')"
   ]
  },
  {
   "cell_type": "markdown",
   "metadata": {},
   "source": [
    "Finally, I did run the python code from python environment where was installed CDS API, and I downloaded the ERA5 data."
   ]
  }
 ],
 "metadata": {
  "kernelspec": {
   "display_name": "Python 3 (ipykernel)",
   "language": "python",
   "name": "python3"
  },
  "language_info": {
   "codemirror_mode": {
    "name": "ipython",
    "version": 3
   },
   "file_extension": ".py",
   "mimetype": "text/x-python",
   "name": "python",
   "nbconvert_exporter": "python",
   "pygments_lexer": "ipython3",
   "version": "3.8.13"
  }
 },
 "nbformat": 4,
 "nbformat_minor": 4
}
